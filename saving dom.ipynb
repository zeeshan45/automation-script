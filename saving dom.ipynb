{
 "cells": [
  {
   "cell_type": "code",
   "execution_count": 1,
   "id": "bbb15c29",
   "metadata": {},
   "outputs": [],
   "source": [
    "import requests\n",
    "from bs4 import BeautifulSoup\n",
    "import time\n",
    "import os"
   ]
  },
  {
   "cell_type": "code",
   "execution_count": null,
   "id": "02c990bc",
   "metadata": {},
   "outputs": [],
   "source": [
    "url = 'https://www.1mg.com/drugs/amoxyclav-625-tablet-491614'"
   ]
  },
  {
   "cell_type": "code",
   "execution_count": 187,
   "id": "44d3ff6a",
   "metadata": {},
   "outputs": [],
   "source": [
    "my_ip_url = 'https://api.ipify.org/?format=json'"
   ]
  },
  {
   "cell_type": "code",
   "execution_count": 191,
   "id": "2ee872de",
   "metadata": {},
   "outputs": [],
   "source": [
    "r = requests.get(my_ip_url)"
   ]
  },
  {
   "cell_type": "code",
   "execution_count": 192,
   "id": "aa16b992",
   "metadata": {},
   "outputs": [
    {
     "data": {
      "text/plain": [
       "'103.177.83.2'"
      ]
     },
     "execution_count": 192,
     "metadata": {},
     "output_type": "execute_result"
    }
   ],
   "source": [
    "r.json()[\"ip\"]"
   ]
  },
  {
   "cell_type": "code",
   "execution_count": 125,
   "id": "fabe88c7",
   "metadata": {},
   "outputs": [],
   "source": [
    "soup = BeautifulSoup(r.content, 'html.parser')"
   ]
  },
  {
   "cell_type": "code",
   "execution_count": 98,
   "id": "b6b39e0f",
   "metadata": {},
   "outputs": [],
   "source": [
    "div_name = 'Card__container__liTc5 Card__productCard__SrdLF Card__direction__H8OmP container-fluid-padded-xl'"
   ]
  },
  {
   "cell_type": "code",
   "execution_count": 200,
   "id": "2ba565d9",
   "metadata": {},
   "outputs": [],
   "source": [
    "path = os.path.join('./parsing data/',file_name)"
   ]
  },
  {
   "cell_type": "code",
   "execution_count": null,
   "id": "73178848",
   "metadata": {},
   "outputs": [],
   "source": [
    "div_name = 'Card__container__liTc5 Card__productCard__SrdLF Card__direction__H8OmP container-fluid-padded-xl'\n",
    "for i in range(100,111):\n",
    "    for j in range(1,1000):\n",
    "        url = 'https://www.1mg.com/drugs-all-medicines'\n",
    "        pram = '?page='+str(j) + '&label=' + chr(i)\n",
    "        url += pram\n",
    "        r = requests.get(url)\n",
    "        soup = BeautifulSoup(r.content, 'html.parser')\n",
    "        file_name = chr(i)+'_'+str(j)+'.html'\n",
    "        path = os.path.join('./parsing data/',file_name)\n",
    "        if soup.find('div', {'class': div_name}):\n",
    "            with open(path, \"wb+\") as file1:\n",
    "                file1.write(r.content)\n",
    "            time.sleep(20)\n",
    "        else:\n",
    "            break\n",
    "#     break    "
   ]
  },
  {
   "cell_type": "code",
   "execution_count": 201,
   "id": "bd98903d",
   "metadata": {},
   "outputs": [],
   "source": [
    "with open(path, \"wb+\") as file1:\n",
    "    # Writing data to a file\n",
    "    soup = BeautifulSoup(r.content, 'html.parser')\n",
    "    file1.write(r.content)"
   ]
  },
  {
   "cell_type": "code",
   "execution_count": 220,
   "id": "f57d8565",
   "metadata": {},
   "outputs": [
    {
     "data": {
      "text/plain": [
       "99"
      ]
     },
     "execution_count": 220,
     "metadata": {},
     "output_type": "execute_result"
    }
   ],
   "source": [
    "i"
   ]
  },
  {
   "cell_type": "code",
   "execution_count": 218,
   "id": "3d41b0ec",
   "metadata": {},
   "outputs": [],
   "source": [
    "# with open('./a_1.html', \"r\") as fileread:\n",
    "#     soup1 = BeautifulSoup(fileread, 'html.parser')\n",
    "#     print(soup)"
   ]
  },
  {
   "cell_type": "code",
   "execution_count": 35,
   "id": "418c7038",
   "metadata": {},
   "outputs": [],
   "source": [
    "element = soup.find('span', {'class': 'l4Regular PriceWidget__marginLeft__dk5gl PriceWidget__strikeThrough__rJY6f'})"
   ]
  },
  {
   "cell_type": "code",
   "execution_count": 212,
   "id": "c89720c5",
   "metadata": {},
   "outputs": [
    {
     "data": {
      "text/plain": [
       "<div class=\"Card__container__liTc5 Card__productCard__SrdLF Card__direction__H8OmP container-fluid-padded-xl\"><a class=\"Card__productCard__SrdLF marginTop-4 Card__text__jeyhg\" href=\"/drugs/augmentin-625-duo-tablet-138629\"><div class=\"Card__image__o88Qk col-2\"><img alt=\"Augmentin 625 Duo Tablet\" src=\"https://onemg.gumlet.io/a_ignore,w_380,h_380,c_fit,q_auto,f_auto/eluna27m2ptghojxlawz.png\" title=\"Augmentin 625 Duo Tablet\"/></div><span class=\"Card__productCard__SrdLF Card__direction__H8OmP col-4\"><p class=\"Card__productName__qw2CE bodyMedium\">Augmentin 625 Duo Tablet</p><p class=\"Card__productDescription__kL6Ho Card__flexAlignCenter____19g\"><img alt=\"Rx\" src=\"https://assets.1mg.com/pwa-app/production/mweb/2.0.0/static/images/svgs/icons/rx_icon.svg\" title=\"Rx\"/><span class=\"col-3\">Prescription Required</span></p><p class=\"Card__productDescription__kL6Ho\">strip of 10 tablets</p><p class=\"Card__productDescription__kL6Ho\">Glaxo SmithKline Pharmaceuticals Ltd</p><p class=\"Card__productDescription__kL6Ho\">Amoxycillin  (500mg) +  Clavulanic Acid (125mg)</p><div class=\"Price__price__Z7syt Price__align__dIdIz\"><span class=\"l3Regular\">â‚¹182.78</span></div></span></a><div class=\"AllMedicines__addToCartBtn__AcNim justifyCenter flex\"><button class=\"PrimaryButton__button__PTr1_\"><span class=\"bodySemiBold PrimaryButton__btnText__rbBDC\">ADD</span></button></div></div>"
      ]
     },
     "execution_count": 212,
     "metadata": {},
     "output_type": "execute_result"
    }
   ],
   "source": [
    "soup1.find('div', {'class': div_name})"
   ]
  },
  {
   "cell_type": "code",
   "execution_count": 33,
   "id": "c254cc41",
   "metadata": {},
   "outputs": [],
   "source": [
    "spl = element.get_text().split('₹')"
   ]
  },
  {
   "cell_type": "code",
   "execution_count": 1,
   "id": "24b294fb",
   "metadata": {},
   "outputs": [],
   "source": [
    "import openpyxl\n",
    "from openpyxl.utils import get_column_letter"
   ]
  }
 ],
 "metadata": {
  "kernelspec": {
   "display_name": "Python 3 (ipykernel)",
   "language": "python",
   "name": "python3"
  },
  "language_info": {
   "codemirror_mode": {
    "name": "ipython",
    "version": 3
   },
   "file_extension": ".py",
   "mimetype": "text/x-python",
   "name": "python",
   "nbconvert_exporter": "python",
   "pygments_lexer": "ipython3",
   "version": "3.11.2"
  }
 },
 "nbformat": 4,
 "nbformat_minor": 5
}
