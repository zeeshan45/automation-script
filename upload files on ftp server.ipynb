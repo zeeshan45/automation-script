{
 "cells": [
  {
   "cell_type": "code",
   "execution_count": null,
   "id": "8a9372ff",
   "metadata": {},
   "outputs": [],
   "source": [
    "import ftplib\n",
    "import os\n",
    "\n",
    "# FTP server settings\n",
    "ftp_host = \"ftp.example.com\"\n",
    "ftp_user = \"username\"\n",
    "ftp_pass = \"password\"\n",
    "ftp_dir = \"/remote/directory/\"\n",
    "\n",
    "# Local directory to upload directories from\n",
    "local_dir = \"/path/to/local/directory/\"\n",
    "\n",
    "# List of directories to upload\n",
    "dir_list = [\n",
    "    \"dir1\",\n",
    "    \"dir2\",\n",
    "    \"dir3\"\n",
    "]\n",
    "\n",
    "# Connect to FTP server\n",
    "ftp = ftplib.FTP(ftp_host)\n",
    "ftp.login(ftp_user, ftp_pass)\n",
    "\n",
    "# Change to remote directory\n",
    "ftp.cwd(ftp_dir)\n",
    "\n",
    "# Upload directories\n",
    "for dir_name in dir_list:\n",
    "    # Create remote directory\n",
    "    ftp.mkd(dir_name)\n",
    "    \n",
    "    # Change to remote directory\n",
    "    ftp.cwd(dir_name)\n",
    "    \n",
    "    # Navigate to local directory\n",
    "    local_path = os.path.join(local_dir, dir_name)\n",
    "    os.chdir(local_path)\n",
    "    \n",
    "    # Upload files in local directory\n",
    "    for file_name in os.listdir():\n",
    "        with open(file_name, \"rb\") as f:\n",
    "            ftp.storbinary(\"STOR \" + file_name, f)\n",
    "    \n",
    "    # Change back to remote directory\n",
    "    ftp.cwd(\"..\")\n",
    "\n",
    "# Close FTP connection\n",
    "ftp.quit()\n"
   ]
  },
  {
   "cell_type": "code",
   "execution_count": 43,
   "id": "ba66a1dd",
   "metadata": {},
   "outputs": [],
   "source": [
    "import os"
   ]
  },
  {
   "cell_type": "code",
   "execution_count": 129,
   "id": "bd885512",
   "metadata": {},
   "outputs": [],
   "source": [
    "import ftplib\n",
    "ftp_host = \"192.168.0.158\"\n",
    "ftp_user = \"ftp-user\"\n",
    "ftp_pass = \"pass@123\""
   ]
  },
  {
   "cell_type": "code",
   "execution_count": 130,
   "id": "f3fba3df",
   "metadata": {},
   "outputs": [
    {
     "data": {
      "text/plain": [
       "'230 User logged in.'"
      ]
     },
     "execution_count": 130,
     "metadata": {},
     "output_type": "execute_result"
    }
   ],
   "source": [
    "ftp = ftplib.FTP(ftp_host)\n",
    "ftp.login(ftp_user, ftp_pass)"
   ]
  },
  {
   "cell_type": "code",
   "execution_count": 131,
   "id": "d38f0669",
   "metadata": {},
   "outputs": [
    {
     "data": {
      "text/plain": [
       "'250 CWD command successful.'"
      ]
     },
     "execution_count": 131,
     "metadata": {},
     "output_type": "execute_result"
    }
   ],
   "source": [
    "ftp_dir = \"./\"\n",
    "local_path = './images_1mg_otc.part01/'\n",
    "ftp.cwd(ftp_dir)"
   ]
  },
  {
   "cell_type": "code",
   "execution_count": 132,
   "id": "ddedeabe",
   "metadata": {},
   "outputs": [],
   "source": [
    "images_directories = os.listdir(local_path)"
   ]
  },
  {
   "cell_type": "code",
   "execution_count": 133,
   "id": "ddb43c4d",
   "metadata": {},
   "outputs": [],
   "source": [
    "for img_dir in images_directories:\n",
    "    sku_direct = os.path.join(local_path,img_dir)\n",
    "    list_images = os.listdir(sku_direct)\n",
    "    ftp.mkd(img_dir)\n",
    "    ftp.cwd(img_dir)\n",
    "    for img in list_images:\n",
    "        img_path = os.path.join(sku_direct+'/',img)\n",
    "        with open(img_path, \"rb\") as f:\n",
    "            ftp.storbinary(\"STOR \" + img, f)\n",
    "#         print(img_dir,img,img_path)\n",
    "#         break\n",
    "    ftp.cwd('..')\n",
    "    if images_directories.index(img_dir) == 1000:\n",
    "        break"
   ]
  },
  {
   "cell_type": "code",
   "execution_count": 127,
   "id": "9de77f27",
   "metadata": {},
   "outputs": [
    {
     "data": {
      "text/plain": [
       "0"
      ]
     },
     "execution_count": 127,
     "metadata": {},
     "output_type": "execute_result"
    }
   ],
   "source": [
    "images_directories.index(img_dir)"
   ]
  },
  {
   "cell_type": "code",
   "execution_count": 85,
   "id": "1350f6c8",
   "metadata": {},
   "outputs": [
    {
     "data": {
      "text/plain": [
       "'250 CWD command successful.'"
      ]
     },
     "execution_count": 85,
     "metadata": {},
     "output_type": "execute_result"
    }
   ],
   "source": [
    "ftp.storbinary()"
   ]
  },
  {
   "cell_type": "code",
   "execution_count": 134,
   "id": "d5af91d2",
   "metadata": {},
   "outputs": [
    {
     "data": {
      "text/plain": [
       "'/'"
      ]
     },
     "execution_count": 134,
     "metadata": {},
     "output_type": "execute_result"
    }
   ],
   "source": [
    "ftp.pwd()"
   ]
  },
  {
   "cell_type": "code",
   "execution_count": 115,
   "id": "33c06bc5",
   "metadata": {},
   "outputs": [
    {
     "data": {
      "text/plain": [
       "'250 CDUP command successful.'"
      ]
     },
     "execution_count": 115,
     "metadata": {},
     "output_type": "execute_result"
    }
   ],
   "source": [
    "ftp.cwd('..')"
   ]
  },
  {
   "cell_type": "code",
   "execution_count": 135,
   "id": "8c724149",
   "metadata": {},
   "outputs": [
    {
     "name": "stdout",
     "output_type": "stream",
     "text": [
      "02-24-23  03:51PM                86746 OTC100898_1.jpg\n",
      "02-24-23  03:51PM               229438 OTC100898_2.jpg\n",
      "02-24-23  03:51PM               168026 OTC100898_3.jpg\n",
      "02-24-23  03:51PM               104393 OTC100898_4.jpg\n"
     ]
    }
   ],
   "source": [
    "ftp.()"
   ]
  }
 ],
 "metadata": {
  "kernelspec": {
   "display_name": "Python 3 (ipykernel)",
   "language": "python",
   "name": "python3"
  },
  "language_info": {
   "codemirror_mode": {
    "name": "ipython",
    "version": 3
   },
   "file_extension": ".py",
   "mimetype": "text/x-python",
   "name": "python",
   "nbconvert_exporter": "python",
   "pygments_lexer": "ipython3",
   "version": "3.11.2"
  }
 },
 "nbformat": 4,
 "nbformat_minor": 5
}
